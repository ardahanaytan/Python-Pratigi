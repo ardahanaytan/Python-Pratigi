{
 "cells": [
  {
   "cell_type": "markdown",
   "metadata": {},
   "source": [
    "### __Problem 1__\n",
    "Kullanıcıdan alınan boy ve kilo değerlerine göre beden kitle indeksini hesaplayın ve şu kurallara göre ekrana şu yazıları yazdırın.\n",
    "\n",
    " Beden Kitle İndeksi: Kilo / Boy(m) *  Boy(m)\n",
    "\n",
    " BKİ 18.5'un altındaysa -------> Zayıf\n",
    "\n",
    " BKİ 18.5 ile 25 arasındaysa ------> Normal\n",
    "\n",
    " BKİ 25 ile 30 arasındaysa --------> Fazla Kilolu\n",
    "\n",
    " BKİ 30'un üstündeyse -------------> Obez"
   ]
  },
  {
   "cell_type": "code",
   "execution_count": 1,
   "metadata": {},
   "outputs": [
    {
     "name": "stdout",
     "output_type": "stream",
     "text": [
      "Fazla Kilolu\n"
     ]
    }
   ],
   "source": [
    "boy = float(input(\"Boyunuzu girin: \"))\n",
    "kilo = int(input(\"Kilonuzu girin: \"))\n",
    "\n",
    "bki = kilo / (boy ** 2)\n",
    "\n",
    "if bki < 18.5:\n",
    "    print(\"Zayıf\")\n",
    "elif bki < 25:\n",
    "    print(\"Normal\")\n",
    "elif bki < 30:\n",
    "    print(\"Fazla Kilolu\")\n",
    "else: \n",
    "    print(\"Obez\")"
   ]
  },
  {
   "cell_type": "markdown",
   "metadata": {},
   "source": [
    "### __Problem 2__\n",
    "Kullanıcıdan 3 tane sayı alın ve en büyük sayıyı ekrana yazdırın."
   ]
  },
  {
   "cell_type": "code",
   "execution_count": 6,
   "metadata": {},
   "outputs": [
    {
     "name": "stdout",
     "output_type": "stream",
     "text": [
      "En büyük sayı: 4\n"
     ]
    }
   ],
   "source": [
    "bir = int(input(\"Birinci sayı: \"))\n",
    "iki = int(input(\"İkinci sayı: \"))\n",
    "uc = int(input(\"Üçüncü sayı: \"))\n",
    "\n",
    "if bir >= iki and bir >= uc:\n",
    "    print(\"En büyük sayı: {0}\".format(bir))\n",
    "elif iki >= bir and iki >= uc:\n",
    "    print(\"En büyük sayı: {0}\".format(iki))\n",
    "elif uc >= bir and uc >= iki:\n",
    "    print(\"En büyük sayı: {0}\".format(uc))"
   ]
  },
  {
   "cell_type": "markdown",
   "metadata": {},
   "source": [
    "### __Problem 3__\n",
    "Kullanıcının girdiği vize1,vize2,final notlarına notlarına göre harf notunu hesaplayın.\n",
    "\n",
    "    Vize1 toplam notun %30'una etki edecek.\n",
    "\n",
    "    Vize2 toplam notun %30'una etki edecek.\n",
    "\n",
    "    Final toplam notun %40'ına etki edecek.\n",
    "\n",
    "\n",
    "    Toplam Not >=  90 -----> AA\n",
    "\n",
    "    Toplam Not >=  85 -----> BA\n",
    "\n",
    "    Toplam Not >=  80 -----> BB\n",
    "\n",
    "    Toplam Not >=  75 -----> CB\n",
    "\n",
    "    Toplam Not >=  70 -----> CC\n",
    "\n",
    "    Toplam Not >=  65 -----> DC\n",
    "\n",
    "    Toplam Not >=  60 -----> DD\n",
    "\n",
    "    Toplam Not >=  55 -----> FD\n",
    "\n",
    "    Toplam Not <  55 -----> FF"
   ]
  },
  {
   "cell_type": "code",
   "execution_count": 7,
   "metadata": {},
   "outputs": [
    {
     "name": "stdout",
     "output_type": "stream",
     "text": [
      "Not: DD\n"
     ]
    }
   ],
   "source": [
    "vize1 = int(input(\"İlk vize notunu girin: \"))\n",
    "vize2= int(input(\"İkinci vize notunu girin: \"))\n",
    "final = int(input(\"Final notunu girin: \"))\n",
    "\n",
    "toplam = (0.3 * vize1) + (0.3 * vize2) + (0.4 * final)\n",
    "\n",
    "if toplam >= 90:\n",
    "    print(\"Not: AA\")\n",
    "elif toplam >= 85:\n",
    "    print(\"Not: BA\")\n",
    "elif toplam >= 80:\n",
    "    print(\"Not: BB\")\n",
    "elif toplam >= 75:\n",
    "    print(\"Not: CB\")\n",
    "elif toplam >= 70:\n",
    "    print(\"Not: CC\")\n",
    "elif toplam >= 65:\n",
    "    print(\"Not: DC\")\n",
    "elif toplam >= 60:\n",
    "    print(\"Not: DD\")\n",
    "elif toplam >= 55:\n",
    "    print(\"Not: FD\")\n",
    "else:\n",
    "    print(\"Not: FF\")"
   ]
  },
  {
   "cell_type": "markdown",
   "metadata": {},
   "source": [
    "### __Problem 4__\n",
    "Şimdi de geometrik şekil hesaplama işlemi yapalım. İlk olarak kullanıcıdan üçgenin mi dörtgenin mi tipini bulmak istediğini sorun.\n",
    "\n",
    "Eğer kullanıcı \"Dörtgen\" cevabını verirse , 4 tane kenar isteyip bu dörtgenin kare mi , dikdörtgen mi yoksa sıradan bir dörtgen mi olduğunu bulmaya çalışın.\n",
    "\n",
    "Eğer kullanıcı \"Üçgen\" cevabını verirse , 3 tane kenar isteyip bu üçgenin ikizkenar mı , eşkenar mı yoksa sıradan bir üçgen mi olduğunu bulmaya çalışın. Eğer verilen kenarlar bir üçgen belirtmiyorsa, ekrana \"Üçgen belirtmiyor\" şeklinde bir yazı yazın.o\n",
    "\n",
    "Üçgen belirtme şartını bilmiyorsunuz internetten bakabilirsiniz."
   ]
  },
  {
   "cell_type": "code",
   "execution_count": 9,
   "metadata": {},
   "outputs": [
    {
     "name": "stdout",
     "output_type": "stream",
     "text": [
      "Dikdörtgen\n"
     ]
    }
   ],
   "source": [
    "sekil = input(\"Dörtgen için D, Üçgen için U yazın: \")\n",
    "\n",
    "if sekil == 'D':\n",
    "    ilk = int(input(\"Birinci kenarın uzunluğunu girin: \"))\n",
    "    iki = int(input(\"İkinci kenarın uzunluğunu girin: \"))\n",
    "    uc = int(input(\"Üçüncü kenarın uzunluğunu girin: \"))\n",
    "    dort = int(input(\"Dördüncü kenarın uzunluğunu girin: \"))\n",
    "    \n",
    "    if ilk == iki and uc == dort and iki == uc:\n",
    "        print(\"Kare\")\n",
    "    elif ilk == iki or ilk == uc or iki == uc:\n",
    "        print(\"Dikdörtgen\")\n",
    "    else:\n",
    "        print(\"Dörtgen\")\n",
    "\n",
    "elif sekil == 'U':\n",
    "    ilk = int(input(\"Birinci kenarın uzunluğunu girin: \"))\n",
    "    iki = int(input(\"İkinci kenarın uzunluğunu girin: \"))\n",
    "    uc = int(input(\"Üçüncü kenarın uzunluğunu girin: \"))\n",
    "    \n",
    "    if not ((ilk + iki) < uc and abs(ilk - iki) > uc):\n",
    "        print(\"Üçgen Belirtmiyor\") \n",
    "    elif ilk == iki and iki == uc:\n",
    "        print(\"Eşkenar Üçgen\")\n",
    "    elif ilk == iki or ilk == uc or iki == uc:\n",
    "        print(\"İkizkenar Üçgen\")\n",
    "    else: \n",
    "        print(\"Üçgen\")"
   ]
  }
 ],
 "metadata": {
  "kernelspec": {
   "display_name": "Python 3",
   "language": "python",
   "name": "python3"
  },
  "language_info": {
   "codemirror_mode": {
    "name": "ipython",
    "version": 3
   },
   "file_extension": ".py",
   "mimetype": "text/x-python",
   "name": "python",
   "nbconvert_exporter": "python",
   "pygments_lexer": "ipython3",
   "version": "3.11.4"
  }
 },
 "nbformat": 4,
 "nbformat_minor": 2
}
