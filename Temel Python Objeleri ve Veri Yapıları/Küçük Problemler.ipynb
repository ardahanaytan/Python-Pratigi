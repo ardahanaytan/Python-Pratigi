{
 "cells": [
  {
   "cell_type": "markdown",
   "metadata": {},
   "source": [
    "### __Problem 1__\n",
    "Kullanıcıdan aldığınız 3 tane sayıyı çarparak ekrana yazdırın. Ekrana yazdırma işlemini *format* metoduyla yapmaya çalışın."
   ]
  },
  {
   "cell_type": "code",
   "execution_count": 8,
   "metadata": {},
   "outputs": [
    {
     "name": "stdout",
     "output_type": "stream",
     "text": [
      "Verilen sayıların çarpımı: 60\n"
     ]
    }
   ],
   "source": [
    "a = int(input(\"İlk Sayı: \"))\n",
    "b = int(input(\"İkinci Sayı: \"))\n",
    "c = int(input(\"Üçüncü Sayı: \"))\n",
    "\n",
    "print('Verilen sayıların çarpımı: {0}'.format(a*b*c))"
   ]
  },
  {
   "cell_type": "markdown",
   "metadata": {},
   "source": [
    "### __Problem 2__\n",
    "Kullanıcıdan aldığınız boy ve kilo değerlerine göre kullanıcının beden kitle indeksini bulun.\n",
    "\n",
    "Beden Kitle İndeksi : Kilo / Boy(m) Boy(m)"
   ]
  },
  {
   "cell_type": "code",
   "execution_count": 10,
   "metadata": {},
   "outputs": [
    {
     "name": "stdout",
     "output_type": "stream",
     "text": [
      "Beden Kitle İndeksiniz: 28.06642386982525\n"
     ]
    }
   ],
   "source": [
    "boy = float(input(\"Boyunuzu metre cinsinden girin: \"))\n",
    "kilo = int(input(\"Kilonuzu girin: \"))\n",
    "\n",
    "print('Beden Kitle İndeksiniz: {0}'.format(kilo / (boy ** 2)))"
   ]
  },
  {
   "cell_type": "markdown",
   "metadata": {},
   "source": [
    "### __Problem 3__\n",
    "Bir aracın kilometrede ne kadar yaktığı ve kaç kilometre yol yaptığı bilgilerini alın ve sürücünü toplam ne kadar ödemesini gerektiğini hesaplayın."
   ]
  },
  {
   "cell_type": "code",
   "execution_count": 13,
   "metadata": {},
   "outputs": [
    {
     "name": "stdout",
     "output_type": "stream",
     "text": [
      "Toplam ödemeniz gereken miktar: 94.6 TL\n"
     ]
    }
   ],
   "source": [
    "arac = float(input(\"Aracın kilometrede ne kadar yaktığını yazın: \"))\n",
    "fiyat = float(input(\"Kaç kilometre yol yaptığınızı yazın: \"))\n",
    "\n",
    "print(\"Toplam ödemeniz gereken miktar: {0} TL\".format(arac * fiyat))"
   ]
  },
  {
   "cell_type": "markdown",
   "metadata": {},
   "source": [
    "### __Problem 4__\n",
    "Kullanıcıdan ad,soyad ve numara bilgisini alarak bunları alt alta ekrana yazdırın."
   ]
  },
  {
   "cell_type": "code",
   "execution_count": 14,
   "metadata": {},
   "outputs": [
    {
     "name": "stdout",
     "output_type": "stream",
     "text": [
      "Adınız: Mustafa\n",
      "Soyadınız: Yorgun\n",
      "Numaranız: 1234\n"
     ]
    }
   ],
   "source": [
    "ad = input(\"Adınızı girin: \")\n",
    "soyad = input(\"Soyadınızı girin: \")\n",
    "num = input(\"Numaranızı girin: \")\n",
    "\n",
    "print(\"Adınız: {0}\\nSoyadınız: {1}\\nNumaranız: {2}\".format(ad, soyad, num))"
   ]
  },
  {
   "cell_type": "markdown",
   "metadata": {},
   "source": [
    "### __Problem 5__\n",
    "Kullanıcıdan iki tane sayı isteyin ve bu sayıların değerlerini birbirleriyle değiştirin."
   ]
  },
  {
   "cell_type": "code",
   "execution_count": 18,
   "metadata": {},
   "outputs": [
    {
     "name": "stdout",
     "output_type": "stream",
     "text": [
      "İlk sayı: 2\n",
      "İkinci Sayı: 3\n",
      "---------------------------------------------\n",
      "İlk sayı: 3\n",
      "İkinci Sayı: 2\n"
     ]
    }
   ],
   "source": [
    "ilk = int(input(\"İlk sayıyı girin: \"))\n",
    "ikinci = int(input(\"İkinci sayıyı girin: \"))\n",
    "\n",
    "print(\"İlk sayı: {0}\\nİkinci Sayı: {1}\".format(ilk, ikinci))\n",
    "\n",
    "temp = ilk\n",
    "ilk = ikinci\n",
    "ikinci = temp\n",
    "#a,b = b,a\n",
    "\n",
    "print(\"---------------------------------------------\\nİlk sayı: {0}\\nİkinci Sayı: {1}\".format(ilk, ikinci))"
   ]
  },
  {
   "cell_type": "markdown",
   "metadata": {},
   "source": [
    "### __Problem 6__\n",
    "Kullanıcıdan bir dik üçgenin dik olan iki kenarını(a,b) alın ve hipotenüs uzunluğunu bulmaya çalışın.\n",
    "\n",
    "Hipotenüs Formülü: a^2 + b^2 = c^2"
   ]
  },
  {
   "cell_type": "code",
   "execution_count": 19,
   "metadata": {},
   "outputs": [
    {
     "name": "stdout",
     "output_type": "stream",
     "text": [
      "Üçüncü kenarın uzunluğu: 5.0\n"
     ]
    }
   ],
   "source": [
    "import math\n",
    "\n",
    "bir = int(input(\"Birinci kenarın uzunluğunu girin: \"))\n",
    "iki = int(input(\"İkinci kenarın uzunluğunu girin: \"))\n",
    "\n",
    "print(\"Üçüncü kenarın uzunluğu: {0}\".format(math.sqrt((bir ** 2) + (iki ** 2))))"
   ]
  }
 ],
 "metadata": {
  "kernelspec": {
   "display_name": "Python 3",
   "language": "python",
   "name": "python3"
  },
  "language_info": {
   "codemirror_mode": {
    "name": "ipython",
    "version": 3
   },
   "file_extension": ".py",
   "mimetype": "text/x-python",
   "name": "python",
   "nbconvert_exporter": "python",
   "pygments_lexer": "ipython3",
   "version": "3.11.4"
  }
 },
 "nbformat": 4,
 "nbformat_minor": 2
}
