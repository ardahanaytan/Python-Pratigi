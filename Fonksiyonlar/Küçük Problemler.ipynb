{
 "cells": [
  {
   "cell_type": "markdown",
   "id": "02e63d2e",
   "metadata": {},
   "source": [
    "### __Problem 1__\n",
    "1'den 1000'e kadar olan sayılardan mükemmel sayı olanları ekrana yazdırın. Bunun için bir sayının mükemmel olup olmadığını dönen bir tane fonksiyon yazın.\n",
    "\n",
    "Bir sayının bölenlerinin toplamı kendine eşitse bu sayı mükemmel bir sayıdır. Örnek olarak 6 mükemmel bir sayıdır (1 + 2 + 3 = 6)."
   ]
  },
  {
   "cell_type": "code",
   "execution_count": 2,
   "id": "b1c6cbf1",
   "metadata": {},
   "outputs": [
    {
     "name": "stdout",
     "output_type": "stream",
     "text": [
      "6\n",
      "28\n",
      "496\n"
     ]
    }
   ],
   "source": [
    "def mukemmel_sayilar():\n",
    "    for sayi in range(1, 1001):\n",
    "        toplam = 0\n",
    "        for i in range(1, sayi):\n",
    "            if sayi % i == 0:\n",
    "                toplam += i\n",
    "        if toplam == sayi:\n",
    "            print(sayi)\n",
    "\n",
    "mukemmel_sayilar()"
   ]
  },
  {
   "cell_type": "markdown",
   "id": "b3462e38",
   "metadata": {},
   "source": [
    "### __Problem 2__\n",
    "Kullanıcıdan 2 tane sayı alarak bu sayıların en büyük ortak bölenini (EBOB) dönen bir tane fonksiyon yazın."
   ]
  },
  {
   "cell_type": "code",
   "execution_count": 3,
   "id": "e87262b6",
   "metadata": {},
   "outputs": [
    {
     "data": {
      "text/plain": [
       "6"
      ]
     },
     "execution_count": 3,
     "metadata": {},
     "output_type": "execute_result"
    }
   ],
   "source": [
    "def ebob(a, b):\n",
    "    while b:\n",
    "        a, b = b, a % b\n",
    "    return a\n",
    "\n",
    "ebob(48, 18)"
   ]
  },
  {
   "cell_type": "markdown",
   "id": "04eb275a",
   "metadata": {},
   "source": [
    "### __Problem 3__\n",
    "Kullanıcıdan 2 tane sayı alarak bu sayıların en küçük ortak katlarını (EKOK) dönen bir tane fonksiyon yazın."
   ]
  },
  {
   "cell_type": "code",
   "execution_count": 4,
   "id": "a41afd92",
   "metadata": {},
   "outputs": [
    {
     "data": {
      "text/plain": [
       "144"
      ]
     },
     "execution_count": 4,
     "metadata": {},
     "output_type": "execute_result"
    }
   ],
   "source": [
    "def ekok(a, b):\n",
    "    return a * b // ebob(a, b)\n",
    "\n",
    "ekok(48, 18)"
   ]
  },
  {
   "cell_type": "markdown",
   "id": "e05f73bc",
   "metadata": {},
   "source": [
    "### __Problem 4__\n",
    "Kullanıcıdan 2 basamaklı bir sayı alın ve bu sayının okunuşunu bulan bir fonksiyon yazın."
   ]
  },
  {
   "cell_type": "code",
   "execution_count": 10,
   "id": "3ee2000f",
   "metadata": {},
   "outputs": [
    {
     "data": {
      "text/plain": [
       "'yirmi yedi'"
      ]
     },
     "execution_count": 10,
     "metadata": {},
     "output_type": "execute_result"
    }
   ],
   "source": [
    "def okunus(sayi):\n",
    "    birler = [\"\", \"bir\", \"iki\", \"üç\", \"dört\", \"beş\", \"altı\", \"yedi\", \"sekiz\", \"dokuz\"]\n",
    "    onlar = [\"\", \"on\", \"yirmi\", \"otuz\", \"kırk\", \"elli\", \"altmış\", \"yetmiş\", \"seksen\", \"doksan\"]\n",
    "\n",
    "    if sayi < 10:\n",
    "        return birler[sayi]\n",
    "    elif sayi < 100:\n",
    "        return onlar[sayi // 10] + (\"\" if sayi % 10 == 0 else \" \" + birler[sayi % 10])\n",
    "    \n",
    "okunus(27)"
   ]
  },
  {
   "cell_type": "markdown",
   "id": "9bada6c4",
   "metadata": {},
   "source": [
    "### __Problem 5__\n",
    "1'den 100'e kadar olan sayılardan pisagor üçgeni oluşturanları ekrana yazdıran bir fonksiyon yazın.(a <= 100,b <= 100)"
   ]
  },
  {
   "cell_type": "code",
   "execution_count": 11,
   "id": "eeea9f33",
   "metadata": {},
   "outputs": [
    {
     "name": "stdout",
     "output_type": "stream",
     "text": [
      "3, 4, 5\n",
      "5, 12, 13\n",
      "6, 8, 10\n",
      "7, 24, 25\n",
      "8, 15, 17\n",
      "9, 12, 15\n",
      "9, 40, 41\n",
      "10, 24, 26\n",
      "11, 60, 61\n",
      "12, 16, 20\n",
      "12, 35, 37\n",
      "13, 84, 85\n",
      "14, 48, 50\n",
      "15, 20, 25\n",
      "15, 36, 39\n",
      "16, 30, 34\n",
      "16, 63, 65\n",
      "18, 24, 30\n",
      "18, 80, 82\n",
      "20, 21, 29\n",
      "20, 48, 52\n",
      "21, 28, 35\n",
      "21, 72, 75\n",
      "24, 32, 40\n",
      "24, 45, 51\n",
      "24, 70, 74\n",
      "25, 60, 65\n",
      "27, 36, 45\n",
      "28, 45, 53\n",
      "28, 96, 100\n",
      "30, 40, 50\n",
      "30, 72, 78\n",
      "32, 60, 68\n",
      "33, 44, 55\n",
      "33, 56, 65\n",
      "35, 84, 91\n",
      "36, 48, 60\n",
      "36, 77, 85\n",
      "39, 52, 65\n",
      "39, 80, 89\n",
      "40, 42, 58\n",
      "40, 75, 85\n",
      "42, 56, 70\n",
      "45, 60, 75\n",
      "48, 55, 73\n",
      "48, 64, 80\n",
      "51, 68, 85\n",
      "54, 72, 90\n",
      "57, 76, 95\n",
      "60, 63, 87\n",
      "60, 80, 100\n",
      "65, 72, 97\n"
     ]
    }
   ],
   "source": [
    "def pisagor_ucgeni():\n",
    "    for a in range(1,101):\n",
    "        for b in range(a, 101):\n",
    "            for c in range(b, 101):\n",
    "                if a**2 + b**2 == c**2:\n",
    "                    print(f\"{a}, {b}, {c}\")\n",
    "\n",
    "pisagor_ucgeni()"
   ]
  },
  {
   "cell_type": "markdown",
   "id": "331ed418",
   "metadata": {},
   "source": [
    "### __Problem 6__\n",
    "Bir lambda fonksiyonu yaz, iki sayıyı toplasın.\n",
    "\n",
    "Bir lambda fonksiyonu yaz, verilen sayıyı 2 ile çarpsın."
   ]
  },
  {
   "cell_type": "code",
   "execution_count": 13,
   "id": "308bc47d",
   "metadata": {},
   "outputs": [
    {
     "name": "stdout",
     "output_type": "stream",
     "text": [
      "8\n",
      "15\n"
     ]
    }
   ],
   "source": [
    "add = lambda x, y: x + y\n",
    "\n",
    "mult = lambda x, y: x * y\n",
    "\n",
    "print(add(3, 5))\n",
    "print(mult(3, 5))"
   ]
  },
  {
   "cell_type": "markdown",
   "id": "6ec0717e",
   "metadata": {},
   "source": [
    "### __Problem 7__\n",
    "Bir liste halinde kelimeler verilecek. Her kelimenin uzunluğunu veren bir liste döndür."
   ]
  },
  {
   "cell_type": "code",
   "execution_count": 17,
   "id": "fe979e26",
   "metadata": {},
   "outputs": [
    {
     "name": "stdout",
     "output_type": "stream",
     "text": [
      "[4, 5, 3]\n"
     ]
    }
   ],
   "source": [
    "length = lambda liste : [len(i) for i in liste]\n",
    "\n",
    "li = [\"elma\", \"armut\", \"muz\"]\n",
    "print(length(li))"
   ]
  },
  {
   "cell_type": "markdown",
   "id": "3656332c",
   "metadata": {},
   "source": [
    "### __Problem 8__\n",
    "Bir kişi listesi veriliyor, her biri (isim, yaş) şeklinde.\n",
    "\n",
    "lambda kullanarak yaşa göre sıralayan bir fonksiyon yaz.\n",
    "\n",
    "-------\n",
    "\n",
    "İki sayı alan ve birini diğerine bölen bir lambda yaz, fakat sıfıra bölme hatasını da kontrol et.\n",
    "\n",
    "(İpucu: if/else tek satırda yazılabilir.)"
   ]
  },
  {
   "cell_type": "code",
   "execution_count": 20,
   "id": "796fc978",
   "metadata": {},
   "outputs": [
    {
     "name": "stdout",
     "output_type": "stream",
     "text": [
      "[('Mehmet', 22), ('Ali', 25), ('Ayşe', 30)]\n",
      "HATA\n"
     ]
    }
   ],
   "source": [
    "kisi_liste = [(\"Ali\", 25), (\"Ayşe\", 30), (\"Mehmet\", 22)]\n",
    "\n",
    "sirali = lambda liste : sorted(liste, key=lambda x: x[1])\n",
    "print(sirali(kisi_liste))\n",
    "\n",
    "#-----------------------------------------------------------\n",
    "\n",
    "bolum = lambda x, y: x / y if y != 0 else \"HATA\"\n",
    "print(bolum(10, 0))"
   ]
  }
 ],
 "metadata": {
  "kernelspec": {
   "display_name": "Python 3",
   "language": "python",
   "name": "python3"
  },
  "language_info": {
   "codemirror_mode": {
    "name": "ipython",
    "version": 3
   },
   "file_extension": ".py",
   "mimetype": "text/x-python",
   "name": "python",
   "nbconvert_exporter": "python",
   "pygments_lexer": "ipython3",
   "version": "3.11.4"
  }
 },
 "nbformat": 4,
 "nbformat_minor": 5
}
