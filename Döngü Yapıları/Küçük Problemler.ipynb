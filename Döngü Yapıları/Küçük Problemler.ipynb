{
 "cells": [
  {
   "cell_type": "markdown",
   "id": "872bf01b",
   "metadata": {},
   "source": [
    "### __Problem 1__\n",
    "Kullanıcıdan aldığınız bir sayının mükemmel olup olmadığını bulmaya çalışın.\n",
    "\n",
    "Bir sayının kendi hariç bölenlerinin toplamı kendine eşitse bu sayıya \"mükemmel sayı\" denir. Örnek olarak, 6 mükemmel bir sayıdır. (1 + 2 + 3 = 6)"
   ]
  },
  {
   "cell_type": "code",
   "execution_count": 8,
   "id": "d2cbc41d",
   "metadata": {},
   "outputs": [
    {
     "name": "stdout",
     "output_type": "stream",
     "text": [
      "9 bir mükemmel sayı değildir.\n"
     ]
    }
   ],
   "source": [
    "sayi = int(input(\"Bir sayı girin: \"))\n",
    "toplam = 0\n",
    "\n",
    "for i in range(sayi):\n",
    "    if i == 0: continue\n",
    "    toplam += i if sayi % i == 0 else 0\n",
    "\n",
    "print(f\"{sayi} bir mükemmel sayıdır.\") if toplam == sayi else print(f\"{sayi} bir mükemmel sayı değildir.\")"
   ]
  },
  {
   "cell_type": "markdown",
   "id": "53a2c41d",
   "metadata": {},
   "source": [
    "### __Problem 2__\n",
    "Kullanıcıdan aldığınız bir sayının \"Armstrong\" sayısı olup olmadığını bulmaya çalışın.\n",
    "\n",
    "Örnek olarak, Bir sayı eğer 4 basamaklı ise ve oluşturan rakamlardan herbirinin 4. kuvvetinin toplamı( 3 basamaklı sayılar için 3.kuvveti ) o sayıya eşitse bu sayıya \"Armstrong\" sayısı denir.\n",
    "\n",
    "Örnek olarak : 1634 = 1^4 + 6^4 + 3^4 + 4^4"
   ]
  },
  {
   "cell_type": "code",
   "execution_count": null,
   "id": "890341d5",
   "metadata": {},
   "outputs": [
    {
     "name": "stdout",
     "output_type": "stream",
     "text": [
      "1634 bir armstrong sayıdır.\n"
     ]
    }
   ],
   "source": [
    "sayi = int(input(\"Bir sayı girin: \"))\n",
    "basamak = len(str(sayi))\n",
    "toplam = 0\n",
    "\n",
    "for i in range(basamak):\n",
    "    toplam += int(str(sayi)[i]) ** basamak\n",
    "    \n",
    "print(f\"{sayi} bir armstrong sayıdır.\") if toplam == sayi else print(f\"{sayi} bir armstrong sayı değildir.\")\n"
   ]
  },
  {
   "cell_type": "markdown",
   "id": "a271810c",
   "metadata": {},
   "source": [
    "### __Problem 3__\n",
    "1'den 10'kadar olan sayılarla ekrana çarpım tablosu bastırmaya çalışın.\n",
    "\n",
    "*İpucu: İç içe 2 tane for döngüsü kullanın. Aynı zamanda sayıları range() fonksiyonunu kullanarak elde edin.*"
   ]
  },
  {
   "cell_type": "code",
   "execution_count": 19,
   "id": "1fd41f3c",
   "metadata": {},
   "outputs": [
    {
     "name": "stdout",
     "output_type": "stream",
     "text": [
      "1 x 1 = 1\n",
      "1 x 2 = 2\n",
      "1 x 3 = 3\n",
      "1 x 4 = 4\n",
      "1 x 5 = 5\n",
      "1 x 6 = 6\n",
      "1 x 7 = 7\n",
      "1 x 8 = 8\n",
      "1 x 9 = 9\n",
      "1 x 10 = 10\n",
      "\n",
      "2 x 1 = 2\n",
      "2 x 2 = 4\n",
      "2 x 3 = 6\n",
      "2 x 4 = 8\n",
      "2 x 5 = 10\n",
      "2 x 6 = 12\n",
      "2 x 7 = 14\n",
      "2 x 8 = 16\n",
      "2 x 9 = 18\n",
      "2 x 10 = 20\n",
      "\n",
      "3 x 1 = 3\n",
      "3 x 2 = 6\n",
      "3 x 3 = 9\n",
      "3 x 4 = 12\n",
      "3 x 5 = 15\n",
      "3 x 6 = 18\n",
      "3 x 7 = 21\n",
      "3 x 8 = 24\n",
      "3 x 9 = 27\n",
      "3 x 10 = 30\n",
      "\n",
      "4 x 1 = 4\n",
      "4 x 2 = 8\n",
      "4 x 3 = 12\n",
      "4 x 4 = 16\n",
      "4 x 5 = 20\n",
      "4 x 6 = 24\n",
      "4 x 7 = 28\n",
      "4 x 8 = 32\n",
      "4 x 9 = 36\n",
      "4 x 10 = 40\n",
      "\n",
      "5 x 1 = 5\n",
      "5 x 2 = 10\n",
      "5 x 3 = 15\n",
      "5 x 4 = 20\n",
      "5 x 5 = 25\n",
      "5 x 6 = 30\n",
      "5 x 7 = 35\n",
      "5 x 8 = 40\n",
      "5 x 9 = 45\n",
      "5 x 10 = 50\n",
      "\n",
      "6 x 1 = 6\n",
      "6 x 2 = 12\n",
      "6 x 3 = 18\n",
      "6 x 4 = 24\n",
      "6 x 5 = 30\n",
      "6 x 6 = 36\n",
      "6 x 7 = 42\n",
      "6 x 8 = 48\n",
      "6 x 9 = 54\n",
      "6 x 10 = 60\n",
      "\n",
      "7 x 1 = 7\n",
      "7 x 2 = 14\n",
      "7 x 3 = 21\n",
      "7 x 4 = 28\n",
      "7 x 5 = 35\n",
      "7 x 6 = 42\n",
      "7 x 7 = 49\n",
      "7 x 8 = 56\n",
      "7 x 9 = 63\n",
      "7 x 10 = 70\n",
      "\n",
      "8 x 1 = 8\n",
      "8 x 2 = 16\n",
      "8 x 3 = 24\n",
      "8 x 4 = 32\n",
      "8 x 5 = 40\n",
      "8 x 6 = 48\n",
      "8 x 7 = 56\n",
      "8 x 8 = 64\n",
      "8 x 9 = 72\n",
      "8 x 10 = 80\n",
      "\n",
      "9 x 1 = 9\n",
      "9 x 2 = 18\n",
      "9 x 3 = 27\n",
      "9 x 4 = 36\n",
      "9 x 5 = 45\n",
      "9 x 6 = 54\n",
      "9 x 7 = 63\n",
      "9 x 8 = 72\n",
      "9 x 9 = 81\n",
      "9 x 10 = 90\n",
      "\n",
      "10 x 1 = 10\n",
      "10 x 2 = 20\n",
      "10 x 3 = 30\n",
      "10 x 4 = 40\n",
      "10 x 5 = 50\n",
      "10 x 6 = 60\n",
      "10 x 7 = 70\n",
      "10 x 8 = 80\n",
      "10 x 9 = 90\n",
      "10 x 10 = 100\n",
      "\n"
     ]
    }
   ],
   "source": [
    "for i in range(1, 11):\n",
    "    for j in range(1, 11):\n",
    "        print(f\"{i} x {j} = {i * j}\")\n",
    "    print()"
   ]
  },
  {
   "cell_type": "markdown",
   "id": "ae1ca2d3",
   "metadata": {},
   "source": [
    "### __Problem 4__\n",
    "Her bir while döngüsünde kullanıcıdan bir sayı alın ve kullanıcının girdiği sayıları \"toplam\" isimli bir değişkene ekleyin. Kullanıcı \"q\" tuşuna bastığı zaman döngüyü sonlandırın ve ekrana \"toplam değişkenini\" bastırın.\n",
    "\n",
    "*İpucu : while döngüsünü sonsuz koşulla başlatın ve kullanıcı q'ya basarsa döngüyü break ile sonlandırın.*"
   ]
  },
  {
   "cell_type": "code",
   "execution_count": null,
   "id": "a5fd4fc6",
   "metadata": {},
   "outputs": [
    {
     "name": "stdout",
     "output_type": "stream",
     "text": [
      "Toplam: 37\n"
     ]
    }
   ],
   "source": [
    "toplam = 0\n",
    "\n",
    "while True:\n",
    "    sayi = input(\"Bir sayı girin: \") \n",
    "\n",
    "    if sayi == \"q\": break\n",
    "    elif sayi.isnumeric: toplam += int(sayi)\n",
    "    else : print(\"Lütfen geçerli bir sayı girin.\")\n",
    "\n",
    "print(f\"Toplam: {toplam}\")"
   ]
  },
  {
   "cell_type": "markdown",
   "id": "c4da9684",
   "metadata": {},
   "source": [
    "### __Problem 5__\n",
    "1'den 100'e kadar olan sayılardan sadece 3'e bölünen sayıları ekrana bastırın. Bu işlemi *continue* ile yapmaya çalışın."
   ]
  },
  {
   "cell_type": "code",
   "execution_count": null,
   "id": "46f86537",
   "metadata": {},
   "outputs": [
    {
     "name": "stdout",
     "output_type": "stream",
     "text": [
      "3, 3'e bölünebilir.\n",
      "6, 3'e bölünebilir.\n",
      "9, 3'e bölünebilir.\n",
      "12, 3'e bölünebilir.\n",
      "15, 3'e bölünebilir.\n",
      "18, 3'e bölünebilir.\n",
      "21, 3'e bölünebilir.\n",
      "24, 3'e bölünebilir.\n",
      "27, 3'e bölünebilir.\n",
      "30, 3'e bölünebilir.\n",
      "33, 3'e bölünebilir.\n",
      "36, 3'e bölünebilir.\n",
      "39, 3'e bölünebilir.\n",
      "42, 3'e bölünebilir.\n",
      "45, 3'e bölünebilir.\n",
      "48, 3'e bölünebilir.\n",
      "51, 3'e bölünebilir.\n",
      "54, 3'e bölünebilir.\n",
      "57, 3'e bölünebilir.\n",
      "60, 3'e bölünebilir.\n",
      "63, 3'e bölünebilir.\n",
      "66, 3'e bölünebilir.\n",
      "69, 3'e bölünebilir.\n",
      "72, 3'e bölünebilir.\n",
      "75, 3'e bölünebilir.\n",
      "78, 3'e bölünebilir.\n",
      "81, 3'e bölünebilir.\n",
      "84, 3'e bölünebilir.\n",
      "87, 3'e bölünebilir.\n",
      "90, 3'e bölünebilir.\n",
      "93, 3'e bölünebilir.\n",
      "96, 3'e bölünebilir.\n",
      "99, 3'e bölünebilir.\n"
     ]
    }
   ],
   "source": [
    "for i in range(1, 101):\n",
    "    if i % 3 == 0: print(f\"{i}, 3'e bölünebilir.\")\n",
    "    else: continue"
   ]
  },
  {
   "cell_type": "markdown",
   "id": "01dbca99",
   "metadata": {},
   "source": [
    "### __Problem 6__\n",
    "Burada mantık yürüterek ve list comprehension kullanarak 1'den 100'e kadar olan sayılardan sadece çift sayıları bir listeye atmayı yapmayı çalışın.\n",
    "\n",
    "İpucu: Basit düşünmeye çalışın."
   ]
  },
  {
   "cell_type": "code",
   "execution_count": 23,
   "id": "bfa42b2f",
   "metadata": {},
   "outputs": [
    {
     "name": "stdout",
     "output_type": "stream",
     "text": [
      "Çift sayılar: [2, 4, 6, 8, 10, 12, 14, 16, 18, 20, 22, 24, 26, 28, 30, 32, 34, 36, 38, 40, 42, 44, 46, 48, 50, 52, 54, 56, 58, 60, 62, 64, 66, 68, 70, 72, 74, 76, 78, 80, 82, 84, 86, 88, 90, 92, 94, 96, 98, 100]\n"
     ]
    }
   ],
   "source": [
    "cift_sayilar = [x for x in range(1, 101) if x % 2 == 0]\n",
    "print(\"Çift sayılar:\", cift_sayilar)"
   ]
  }
 ],
 "metadata": {
  "kernelspec": {
   "display_name": "Python 3",
   "language": "python",
   "name": "python3"
  },
  "language_info": {
   "codemirror_mode": {
    "name": "ipython",
    "version": 3
   },
   "file_extension": ".py",
   "mimetype": "text/x-python",
   "name": "python",
   "nbconvert_exporter": "python",
   "pygments_lexer": "ipython3",
   "version": "3.11.4"
  }
 },
 "nbformat": 4,
 "nbformat_minor": 5
}
